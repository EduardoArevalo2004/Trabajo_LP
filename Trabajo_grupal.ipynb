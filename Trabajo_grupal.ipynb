{
 "cells": [
  {
   "cell_type": "markdown",
   "id": "682425ea-5c82-4b26-89ca-170c83682f0f",
   "metadata": {},
   "source": [
    "<center> <h2 style=\"color:blac;\">UNIVERSIDAD NACIONAL AGRARIA LA MOLINA</h2\n",
    "<center> <h2 style=\"color:blac;\">FACULTAD DE ECONOMÍA Y PLANIFICACIÓN</h2\n",
    "<center> <h2 style=\"color:blac;\">ESTADÍSTICA INFORMÁTICA</h2\n",
    "<center>\n",
    " <img src=\"http://www.lamolina.edu.pe/portada/html/acerca/escudos/download/color/1193x1355_ESCUDOCOLOR.png\" alt=\"Turing's Device\" style=\"width:25%;\">\n",
    "</center>\n",
    "\n",
    "### *PROFESORA :*\n",
    "\n",
    "Chalan Llajaruna , Denise Rosalyn \n",
    "\n",
    "### *Curso :*\n",
    "Lenguaje de Programacion II\n",
    "\n",
    "### *INTEGRANTES :*\n",
    "- Postigo Tafur, Luis Sebastian    -  20220774\n",
    "- Sanchez Pacuri, Gerson Junior    -  2022077\n",
    "- Arévalo Aquije, Eduardo  Daniel  -  202207\n",
    "\n",
    "<center> <h2 style=\"color:blac;\">LIMA - PERÚ</h2\n",
    "<center> <h2 style=\"color:blac;\">2024</h2"
   ]
  },
  {
   "cell_type": "markdown",
   "id": "b1efb50e",
   "metadata": {},
   "source": [
    "# INTRODUCCION"
   ]
  },
  {
   "cell_type": "markdown",
   "id": "f71bedb0-4bb9-4f54-83df-aebf509eff40",
   "metadata": {},
   "source": [
    "En la era digital actual, las redes sociales han emergido como herramientas cruciales para la comunicación y el marketing. Entre estas, Twitter se destaca por su capacidad de difundir información de manera rápida y efectiva. Las organizaciones deportivas, incluyendo los clubes de fútbol, han adoptado estas plataformas para interactuar con sus seguidores, promover productos y fortalecer sus marcas. Este proyecto se centra en el análisis de las métricas de dos tiendas deportivas asociadas con los clubes de fútbol más emblemáticos de Perú: Alianza Lima y Sporting Cristal. Utilizando la API de Rapid para Twitter, nos proponemos explorar la presencia en redes sociales de la tienda Blanquiazul de Alianza Lima y la tienda Celeste de Sporting Cristal."
   ]
  },
  {
   "cell_type": "markdown",
   "id": "cdadd057-0fdd-4745-92ea-426ce3e8aaa9",
   "metadata": {},
   "source": [
    "## OBJETIVOS"
   ]
  },
  {
   "cell_type": "markdown",
   "id": "8be3aec6-15f8-4f49-8a1b-b7a624f2be43",
   "metadata": {},
   "source": [
    "### Recolectar Datos de Twitter:\n",
    "\n",
    "* Utilizar la API de Rapid para Twitter para recolectar tweets específicos de las cuentas oficiales de los clubes Alianza Lima y Sporting Cristal.\n",
    "Enfocarse en tweets que contengan los hashtags #TiendaBlanquiazul para Alianza Lima y #TiendaCeleste para Sporting Cristal.\n",
    "Analizar Interacciones en Redes Sociales:\n",
    "\n",
    "* Evaluar la cantidad de retweets, likes y respuestas que reciben los tweets de ambas cuentas.\n",
    "Determinar cuáles tweets generan mayor interacción y qué factores pueden estar contribuyendo a ello (por ejemplo, contenido visual, promociones especiales, eventos).\n",
    "Comparar la Eficacia de las Estrategias de Marketing:\n",
    "\n",
    "* Comparar las métricas obtenidas para identificar cuál de las dos tiendas deportivas está logrando una mayor interacción y compromiso con los seguidores.\n",
    "Analizar las posibles razones detrás de las diferencias en las métricas de interacción.\n",
    "Identificar Tendencias y Patrones:\n",
    "\n",
    "* Identificar patrones en la frecuencia y contenido de los tweets que resultan en mayores interacciones.\n",
    "Evaluar cómo las campañas de marketing y las promociones específicas impactan en el compromiso de los seguidores.\n",
    "Proveer Recomendaciones Basadas en Datos:\n",
    "\n",
    "* Ofrecer recomendaciones a ambos clubes sobre cómo mejorar su estrategia de marketing digital.\n",
    "Sugerir mejores prácticas basadas en el análisis de datos para aumentar la visibilidad y las ventas de sus tiendas deportivas."
   ]
  },
  {
   "cell_type": "code",
   "execution_count": null,
   "id": "1f21fe6d-aeea-4fad-b1a8-24832fca721c",
   "metadata": {},
   "outputs": [],
   "source": []
  }
 ],
 "metadata": {
  "kernelspec": {
   "display_name": "Python 3 (ipykernel)",
   "language": "python",
   "name": "python3"
  },
  "language_info": {
   "codemirror_mode": {
    "name": "ipython",
    "version": 3
   },
   "file_extension": ".py",
   "mimetype": "text/x-python",
   "name": "python",
   "nbconvert_exporter": "python",
   "pygments_lexer": "ipython3",
   "version": "3.11.7"
  }
 },
 "nbformat": 4,
 "nbformat_minor": 5
}
