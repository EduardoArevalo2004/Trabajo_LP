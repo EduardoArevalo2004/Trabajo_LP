{
 "cells": [
  {
   "cell_type": "markdown",
   "id": "682425ea-5c82-4b26-89ca-170c83682f0f",
   "metadata": {},
   "source": [
    "<center> <h2 style=\"color:blac;\">UNIVERSIDAD NACIONAL AGRARIA LA MOLINA</h2\n",
    "<center> <h2 style=\"color:blac;\">FACULTAD DE ECONOMÍA Y PLANIFICACIÓN</h2\n",
    "<center> <h2 style=\"color:blac;\">ESTADÍSTICA INFORMÁTICA</h2\n",
    "<center>\n",
    " <img src=\"http://www.lamolina.edu.pe/portada/html/acerca/escudos/download/color/1193x1355_ESCUDOCOLOR.png\" alt=\"Turing's Device\" style=\"width:25%;\">\n",
    "</center>\n",
    "\n",
    "### *PROFESORA :*\n",
    "\n",
    "Chalan Llajaruna , Denise Rosalyn \n",
    "\n",
    "### *Curso :*\n",
    "Lenguaje de Programacion II\n",
    "\n",
    "### *INTEGRANTES :*\n",
    "- Postigo Tafur, Luis Sebastian    -  20220774\n",
    "- Sanchez Pacuri, Gerson Junior    -  2022077\n",
    "- Arévalo Aquije, Eduardo  Daniel  -  202207\n",
    "\n",
    "<center> <h2 style=\"color:blac;\">LIMA - PERÚ</h2\n",
    "<center> <h2 style=\"color:blac;\">2024</h2"
   ]
  },
  {
   "cell_type": "markdown",
   "id": "b1efb50e",
   "metadata": {},
   "source": [
    "# Extraccion del api:"
   ]
  }
 ],
 "metadata": {
  "kernelspec": {
   "display_name": "Python 3 (ipykernel)",
   "language": "python",
   "name": "python3"
  },
  "language_info": {
   "codemirror_mode": {
    "name": "ipython",
    "version": 3
   },
   "file_extension": ".py",
   "mimetype": "text/x-python",
   "name": "python",
   "nbconvert_exporter": "python",
   "pygments_lexer": "ipython3",
   "version": "3.11.7"
  }
 },
 "nbformat": 4,
 "nbformat_minor": 5
}
